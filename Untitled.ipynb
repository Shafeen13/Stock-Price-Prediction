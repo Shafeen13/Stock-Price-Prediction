{
 "cells": [
  {
   "cell_type": "code",
   "execution_count": 1,
   "id": "be592791",
   "metadata": {},
   "outputs": [],
   "source": [
    "# Importing the Libraries\n",
    "import pandas as pd\n",
    "import numpy as np\n",
    "import warnings\n",
    "import matplotlib.pyplot as plt\n",
    "from sklearn.metrics import accuracy_score, mean_absolute_percentage_error\n",
    "from sklearn.preprocessing import MinMaxScaler\n",
    "from sklearn.svm import SVC\n",
    "from keras.layers import LSTM, Dense\n",
    "from sklearn.model_selection import TimeSeriesSplit\n",
    "from keras.models import Sequential\n",
    "from keras.layers import Dense\n",
    "from keras.layers import LSTM\n",
    "from tensorflow.keras.utils import plot_model\n",
    "warnings.filterwarnings(\"ignore\")"
   ]
  },
  {
   "cell_type": "code",
   "execution_count": 2,
   "id": "0749e9ad",
   "metadata": {},
   "outputs": [],
   "source": [
    "sp=pd.read_csv(r\"C:\\Users\\Shafeen\\Desktop\\Stock-Price.csv\")"
   ]
  },
  {
   "cell_type": "code",
   "execution_count": 3,
   "id": "b0a419c6",
   "metadata": {},
   "outputs": [
    {
     "name": "stdout",
     "output_type": "stream",
     "text": [
      "Dataframe Shape:  (1009, 7)\n",
      "Null Value Present:  False\n"
     ]
    }
   ],
   "source": [
    "# Print the shape of Dataframe  and Check for Null Values\n",
    "print(\"Dataframe Shape: \", sp. shape)\n",
    "print(\"Null Value Present: \", sp.isnull().values.any())\n"
   ]
  },
  {
   "cell_type": "code",
   "execution_count": 4,
   "id": "a9270219",
   "metadata": {},
   "outputs": [],
   "source": [
    "output_var = pd.DataFrame(sp['Adj Close'])\n",
    "# Selecting the Features\n",
    "features = ['Open', 'High', 'Low', 'Volume']"
   ]
  },
  {
   "cell_type": "code",
   "execution_count": 5,
   "id": "aaf776b0",
   "metadata": {},
   "outputs": [
    {
     "data": {
      "text/html": [
       "<div>\n",
       "<style scoped>\n",
       "    .dataframe tbody tr th:only-of-type {\n",
       "        vertical-align: middle;\n",
       "    }\n",
       "\n",
       "    .dataframe tbody tr th {\n",
       "        vertical-align: top;\n",
       "    }\n",
       "\n",
       "    .dataframe thead th {\n",
       "        text-align: right;\n",
       "    }\n",
       "</style>\n",
       "<table border=\"1\" class=\"dataframe\">\n",
       "  <thead>\n",
       "    <tr style=\"text-align: right;\">\n",
       "      <th></th>\n",
       "      <th>Open</th>\n",
       "      <th>High</th>\n",
       "      <th>Low</th>\n",
       "      <th>Volume</th>\n",
       "    </tr>\n",
       "  </thead>\n",
       "  <tbody>\n",
       "    <tr>\n",
       "      <th>0</th>\n",
       "      <td>0.061253</td>\n",
       "      <td>0.038304</td>\n",
       "      <td>0.041331</td>\n",
       "      <td>0.186150</td>\n",
       "    </tr>\n",
       "    <tr>\n",
       "      <th>1</th>\n",
       "      <td>0.030059</td>\n",
       "      <td>0.035640</td>\n",
       "      <td>0.030273</td>\n",
       "      <td>0.198264</td>\n",
       "    </tr>\n",
       "    <tr>\n",
       "      <th>2</th>\n",
       "      <td>0.071243</td>\n",
       "      <td>0.048408</td>\n",
       "      <td>0.072770</td>\n",
       "      <td>0.135690</td>\n",
       "    </tr>\n",
       "    <tr>\n",
       "      <th>3</th>\n",
       "      <td>0.072334</td>\n",
       "      <td>0.037683</td>\n",
       "      <td>0.041265</td>\n",
       "      <td>0.141320</td>\n",
       "    </tr>\n",
       "    <tr>\n",
       "      <th>4</th>\n",
       "      <td>0.043474</td>\n",
       "      <td>0.011436</td>\n",
       "      <td>0.010729</td>\n",
       "      <td>0.272902</td>\n",
       "    </tr>\n",
       "  </tbody>\n",
       "</table>\n",
       "</div>"
      ],
      "text/plain": [
       "       Open      High       Low    Volume\n",
       "0  0.061253  0.038304  0.041331  0.186150\n",
       "1  0.030059  0.035640  0.030273  0.198264\n",
       "2  0.071243  0.048408  0.072770  0.135690\n",
       "3  0.072334  0.037683  0.041265  0.141320\n",
       "4  0.043474  0.011436  0.010729  0.272902"
      ]
     },
     "execution_count": 5,
     "metadata": {},
     "output_type": "execute_result"
    }
   ],
   "source": [
    "scaler = MinMaxScaler()\n",
    "feature_transform = scaler.fit_transform(sp[features])\n",
    "feature_transform = pd.DataFrame(\n",
    "    columns=features, data=feature_transform, index=sp.index)\n",
    "feature_transform.head()"
   ]
  },
  {
   "cell_type": "code",
   "execution_count": 6,
   "id": "f3cb9a3b",
   "metadata": {},
   "outputs": [],
   "source": [
    "timesplit = TimeSeriesSplit(n_splits=10)\n",
    "for train_index, test_index in timesplit.split(feature_transform):\n",
    "    X_train, X_test = feature_transform[:len(train_index)], feature_transform[len(\n",
    "        train_index): (len(train_index)+len(test_index))]\n",
    "    y_train, y_test = output_var[:len(train_index)].values.ravel(), output_var[len(\n",
    "        train_index): (len(train_index)+len(test_index))].values.ravel()\n"
   ]
  },
  {
   "cell_type": "code",
   "execution_count": 7,
   "id": "c617d225",
   "metadata": {},
   "outputs": [],
   "source": [
    "trainX = np.array(X_train)\n",
    "testX = np.array(X_test)\n",
    "X_train = trainX.reshape(X_train.shape[0], 1, X_train.shape[1])\n",
    "X_test = testX.reshape(X_test.shape[0], 1, X_test.shape[1])"
   ]
  },
  {
   "cell_type": "code",
   "execution_count": 8,
   "id": "f7b83e85",
   "metadata": {},
   "outputs": [],
   "source": [
    "lstm = Sequential()\n",
    "lstm.add(LSTM(32, input_shape=(\n",
    "    1, trainX.shape[1]), activation='relu', return_sequences=False))\n",
    "lstm.add(Dense(1))\n",
    "lstm.compile(loss='mean_squared_error', optimizer='adam')"
   ]
  },
  {
   "cell_type": "code",
   "execution_count": 9,
   "id": "c14a0313",
   "metadata": {},
   "outputs": [
    {
     "name": "stdout",
     "output_type": "stream",
     "text": [
      "Epoch 1/5\n",
      "115/115 [==============================] - 3s 3ms/step - loss: 169835.9688\n",
      "Epoch 2/5\n",
      "115/115 [==============================] - 0s 3ms/step - loss: 169024.4375\n",
      "Epoch 3/5\n",
      "115/115 [==============================] - 0s 3ms/step - loss: 167104.8594\n",
      "Epoch 4/5\n",
      "115/115 [==============================] - 0s 3ms/step - loss: 163738.9844\n",
      "Epoch 5/5\n",
      "115/115 [==============================] - 0s 3ms/step - loss: 158908.3906\n"
     ]
    }
   ],
   "source": [
    "history = lstm.fit(X_train, y_train, epochs=5,\n",
    "                    batch_size=8, verbose=1, shuffle=False)"
   ]
  },
  {
   "cell_type": "code",
   "execution_count": 10,
   "id": "3a8d4147",
   "metadata": {},
   "outputs": [
    {
     "name": "stdout",
     "output_type": "stream",
     "text": [
      "3/3 [==============================] - 0s 4ms/step\n"
     ]
    }
   ],
   "source": [
    "# LSTM Prediction\n",
    "y_pred = lstm.predict(X_test)"
   ]
  },
  {
   "cell_type": "code",
   "execution_count": 11,
   "id": "f3059d69",
   "metadata": {},
   "outputs": [
    {
     "name": "stdout",
     "output_type": "stream",
     "text": [
      "\n",
      "\n",
      "LSTM Model Accuracy: 4.780000000000001%\n"
     ]
    }
   ],
   "source": [
    "mape = mean_absolute_percentage_error(y_test, y_pred)\n",
    "print(\"\\n\\nLSTM Model Accuracy: \" + str(100-round(mape*100, 2)) + \"%\")"
   ]
  },
  {
   "cell_type": "code",
   "execution_count": 12,
   "id": "0045cbdf",
   "metadata": {},
   "outputs": [
    {
     "data": {
      "image/png": "[encoded data removed]",
      "text/plain": [
       "<Figure size 640x480 with 1 Axes>"
      ]
     },
     "metadata": {},
     "output_type": "display_data"
    }
   ],
   "source": [
    "# Predicted vs True Adj Close Value – LSTM\n",
    "plt.plot(y_test, label='True Value')\n",
    "plt.plot(y_pred, label='LSTM Value')\n",
    "plt.title(\"Prediction by LSTM\")\n",
    "plt.xlabel('Time Scale')\n",
    "plt.ylabel('Stock Price in USD')\n",
    "plt.legend()\n",
    "plt.show()"
   ]
  },
  {
   "cell_type": "code",
   "execution_count": 13,
   "id": "6abb2ca4",
   "metadata": {},
   "outputs": [],
   "source": [
    "# Get the dates corresponding to the test set\n",
    "test_dates = sp.iloc[test_index].index"
   ]
  },
  {
   "cell_type": "code",
   "execution_count": 14,
   "id": "b8dc228c",
   "metadata": {},
   "outputs": [],
   "source": [
    "# Create a new DataFrame with the predictions and the corresponding dates\n",
    "pred_df = pd.DataFrame({'Adj Close': y_test, 'Predicted': y_pred[:,0]})\n",
    " # Export the DataFrame to a CSV file\n",
    "pred_df.to_csv('predicted_stock_prices.csv', index=False)  "
   ]
  },
  {
   "cell_type": "code",
   "execution_count": null,
   "id": "0e487d69",
   "metadata": {},
   "outputs": [],
   "source": []
  }
 ],
 "metadata": {
  "kernelspec": {
   "display_name": "Python 3 (ipykernel)",
   "language": "python",
   "name": "python3"
  },
  "language_info": {
   "codemirror_mode": {
    "name": "ipython",
    "version": 3
   },
   "file_extension": ".py",
   "mimetype": "text/x-python",
   "name": "python",
   "nbconvert_exporter": "python",
   "pygments_lexer": "ipython3",
   "version": "3.10.9"
  }
 },
 "nbformat": 4,
 "nbformat_minor": 5
}
